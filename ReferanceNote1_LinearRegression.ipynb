{
 "cells": [
  {
   "cell_type": "markdown",
   "id": "roman-genesis",
   "metadata": {},
   "source": [
    "<a id = '4.0'></a>\n",
    "<p style = \"font-size : 35px; color : #34656d ;  text-align : center; background-color : #08f9f9; border-radius: 5px 5px;\"><strong>Linear Regression Model Building</strong></p> "
   ]
  },
  {
   "cell_type": "markdown",
   "id": "complex-president",
   "metadata": {},
   "source": [
    "## <span style='color:red'> 1- Import Library</span> "
   ]
  },
  {
   "cell_type": "code",
   "execution_count": 18,
   "id": "portable-subscriber",
   "metadata": {},
   "outputs": [],
   "source": [
    "import numpy as np\n",
    "import pandas as pd\n",
    "from sklearn.model_selection import train_test_split\n",
    "from sklearn.linear_model import LinearRegression\n",
    "from sklearn.metrics import mean_absolute_error, mean_squared_error, r2_score"
   ]
  },
  {
   "cell_type": "markdown",
   "id": "focal-employee",
   "metadata": {},
   "source": [
    "## <span style='color:red'> 2- Data Preparation / Train-Test Split </span> "
   ]
  },
  {
   "cell_type": "code",
   "execution_count": 19,
   "id": "interpreted-zealand",
   "metadata": {},
   "outputs": [],
   "source": [
    "df = pd.read_csv(\"Advertising.csv\")\n",
    "X = df.drop(columns =\"sales\") #df[[\"TV\", \"radio\", \"newspaper\"]]\n",
    "y = df[\"sales\"]\n",
    "X_train, X_test, y_train, y_test = train_test_split(X, y, test_size = 0.3, random_state =42)"
   ]
  },
  {
   "cell_type": "markdown",
   "id": "valuable-sapphire",
   "metadata": {},
   "source": [
    "## <span style='color:red'> 3- Model Building and Fitting </span> "
   ]
  },
  {
   "cell_type": "code",
   "execution_count": 20,
   "id": "working-drink",
   "metadata": {},
   "outputs": [
    {
     "data": {
      "text/plain": [
       "LinearRegression()"
      ]
     },
     "execution_count": 20,
     "metadata": {},
     "output_type": "execute_result"
    }
   ],
   "source": [
    "model = LinearRegression()\n",
    "model.fit(X_train, y_train)"
   ]
  },
  {
   "cell_type": "markdown",
   "id": "6e56e83f",
   "metadata": {},
   "source": [
    "## <span style='color:red'> 4- Prediction </span> "
   ]
  },
  {
   "cell_type": "code",
   "execution_count": 21,
   "id": "3632af9a",
   "metadata": {},
   "outputs": [],
   "source": [
    "y_pred = model.predict(X_test)"
   ]
  },
  {
   "cell_type": "markdown",
   "id": "frozen-space",
   "metadata": {},
   "source": [
    "## <span style='color:red'> 5- Evaluation </span> "
   ]
  },
  {
   "cell_type": "code",
   "execution_count": 22,
   "id": "coordinate-worse",
   "metadata": {},
   "outputs": [
    {
     "name": "stdout",
     "output_type": "stream",
     "text": [
      "Model Performance Evaluation:\n",
      "--------------------------\n",
      "R2_score \t: 0.8609466508230368\n",
      "MAE \t\t: 1.5116692224549086\n",
      "MSE \t\t: 3.796797236715219\n",
      "RMSE \t\t: 1.9485372043446385\n"
     ]
    }
   ],
   "source": [
    "mae = mean_absolute_error(y_test, y_pred)\n",
    "mse = mean_squared_error(y_test, y_pred)\n",
    "rmse = np.sqrt(mean_squared_error(y_test, y_pred))\n",
    "R2_score = r2_score(y_test, y_pred)\n",
    "print(\"Model Performance Evaluation:\")\n",
    "print(\"--------------------------\")\n",
    "print(f\"R2_score \\t: {R2_score}\")\n",
    "print(f\"MAE \\t\\t: {mae}\")\n",
    "print(f\"MSE \\t\\t: {mse}\")\n",
    "print(f\"RMSE \\t\\t: {rmse}\")"
   ]
  },
  {
   "cell_type": "code",
   "execution_count": null,
   "id": "bc5550b3",
   "metadata": {},
   "outputs": [],
   "source": [
    "def models(X, y, test_size):\n",
    "    X_train, X_test, y_train, y_test = train_test_split(X, y, test_size = test_size, random_state = 42)\n",
    "\n",
    "    #scaling\n",
    "    scaler = StandardScaler()\n",
    "    X_train_scaled = scaler.fit_transform(X_train)\n",
    "    X_test_scaled = scaler.transform(X_test)\n",
    "\n",
    "    #Linear Reg.\n",
    "    lm_model = LinearRegression()\n",
    "    lm_model.fit(X_train_scaled, y_train)\n",
    "    y_pred_lm = lm_model.predict(X_test_scaled)\n",
    "    y_train_pred_lm = lm_model.predict(X_train_scaled)\n",
    "    lm = train_val(y_train, y_train_pred_lm, y_test, y_pred_lm, 'linear')\n",
    "\n",
    "    #Ridge Reg.\n",
    "    alpha_space = np.linspace(0.01,1,100)\n",
    "    ridge_cv_model = RidgeCV(alphas=alpha_space, cv=5, scoring='neg_root_mean_squared_error')\n",
    "    ridge_cv_model.fit(X_train_scaled, y_train)\n",
    "    y_pred_rg = ridge_cv_model.predict(X_test_scaled)\n",
    "    y_train_pred_rg = ridge_cv_model.predict(X_train_scaled)\n",
    "    ridge = train_val(y_train, y_train_pred_rg, y_test, y_pred_rg, 'ridge_cv')\n",
    "\n",
    "    #Lasso Reg.\n",
    "    alpha_space = np.linspace(0.01,1,100)\n",
    "    lasso_cv_model = LassoCV(alphas=alpha_space, cv=5, max_iter=10000, random_state=42)\n",
    "    lasso_cv_model.fit(X_train_scaled, y_train)\n",
    "    y_pred_las = lasso_cv_model.predict(X_test_scaled)\n",
    "    y_train_pred_las = lasso_cv_model.predict(X_train_scaled)\n",
    "    lasso = train_val(y_train, y_train_pred_las, y_test, y_pred_las, 'lasso_cv')\n",
    "\n",
    "    return pd.concat([lm, ridge, lasso], axis=1)"
   ]
  }
 ],
 "metadata": {
  "kernelspec": {
   "display_name": "Python 3 (ipykernel)",
   "language": "python",
   "name": "python3"
  },
  "language_info": {
   "codemirror_mode": {
    "name": "ipython",
    "version": 3
   },
   "file_extension": ".py",
   "mimetype": "text/x-python",
   "name": "python",
   "nbconvert_exporter": "python",
   "pygments_lexer": "ipython3",
   "version": "3.9.6"
  }
 },
 "nbformat": 4,
 "nbformat_minor": 5
}
