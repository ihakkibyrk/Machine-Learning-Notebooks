{
 "cells": [
  {
   "cell_type": "markdown",
   "id": "roman-genesis",
   "metadata": {},
   "source": [
    "<a id = '4.0'></a>\n",
    "<p style = \"font-size : 35px; color : #34656d ;  text-align : center; background-color : #08f9f9; border-radius: 5px 5px;\"><strong>Polinomial Regression Model Building</strong></p> "
   ]
  },
  {
   "cell_type": "markdown",
   "id": "complex-president",
   "metadata": {},
   "source": [
    "## <span style='color:red'> 1- Import Library</span> "
   ]
  },
  {
   "cell_type": "code",
   "execution_count": 27,
   "id": "portable-subscriber",
   "metadata": {},
   "outputs": [],
   "source": [
    "import numpy as np\n",
    "import pandas as pd\n",
    "from sklearn.model_selection import train_test_split\n",
    "from sklearn.linear_model import LinearRegression\n",
    "from sklearn.preprocessing import PolynomialFeatures\n",
    "from sklearn.metrics import mean_absolute_error, mean_squared_error, r2_score"
   ]
  },
  {
   "cell_type": "markdown",
   "id": "focal-employee",
   "metadata": {},
   "source": [
    "## <span style='color:red'> 2- Data Preparation / Train-Test Split </span> "
   ]
  },
  {
   "cell_type": "code",
   "execution_count": 48,
   "id": "interpreted-zealand",
   "metadata": {},
   "outputs": [],
   "source": [
    "df = pd.read_csv(\"Advertising.csv\")\n",
    "X = df.drop(columns =\"sales\") #df[[\"TV\", \"radio\", \"newspaper\"]]\n",
    "y = df[\"sales\"]\n",
    "\n",
    "polyFeature = PolynomialFeatures(degree = 3, include_bias=False)\n",
    "Xnew=polyFeature.fit_transform(X) # Obtain new X for splitting\n",
    "X_train, X_test, y_train, y_test = train_test_split(Xnew, y, test_size = 0.3, random_state =42)"
   ]
  },
  {
   "cell_type": "markdown",
   "id": "valuable-sapphire",
   "metadata": {},
   "source": [
    "## <span style='color:red'> 3- Model Building and Fitting </span> "
   ]
  },
  {
   "cell_type": "code",
   "execution_count": null,
   "id": "working-drink",
   "metadata": {},
   "outputs": [],
   "source": [
    "model = LinearRegression()\n",
    "model.fit(X_train, y_train)"
   ]
  },
  {
   "cell_type": "markdown",
   "id": "6e56e83f",
   "metadata": {},
   "source": [
    "## <span style='color:red'> 4- Prediction </span> "
   ]
  },
  {
   "cell_type": "code",
   "execution_count": 50,
   "id": "3632af9a",
   "metadata": {},
   "outputs": [],
   "source": [
    "y_pred_train = model.predict(X_train)\n",
    "y_pred_test = model.predict(X_test)\n"
   ]
  },
  {
   "cell_type": "markdown",
   "id": "frozen-space",
   "metadata": {},
   "source": [
    "## <span style='color:red'> 5- Evaluation </span> "
   ]
  },
  {
   "cell_type": "code",
   "execution_count": null,
   "id": "coordinate-worse",
   "metadata": {},
   "outputs": [],
   "source": [
    "#Model Performance Evaluation for Train Data\n",
    "mae = mean_absolute_error(y_train, y_pred_train)\n",
    "mse = mean_squared_error(y_train, y_pred_train)\n",
    "rmse = np.sqrt(mean_squared_error(y_train, y_pred_train))\n",
    "R2_score = r2_score(y_train, y_pred_train)\n",
    "print(\"Model Performance Evaluation for Train Data:\")\n",
    "print(\"--------------------------\")\n",
    "print(f\"R2_score \\t: {R2_score}\")\n",
    "print(f\"MAE \\t\\t: {mae}\")\n",
    "print(f\"MSE \\t\\t: {mse}\")\n",
    "print(f\"RMSE \\t\\t: {rmse}\")"
   ]
  },
  {
   "cell_type": "code",
   "execution_count": null,
   "id": "1403b5cf",
   "metadata": {},
   "outputs": [],
   "source": [
    "#Model Performance Evaluation for Test Data\n",
    "mae = mean_absolute_error(y_test, y_pred_test)\n",
    "mse = mean_squared_error(y_test, y_pred_test)\n",
    "rmse = np.sqrt(mean_squared_error(y_test, y_pred_test))\n",
    "R2_score = r2_score(y_test, y_pred_test)\n",
    "print(\"Model Performance Evaluation for Test Data:\")\n",
    "print(\"--------------------------\")\n",
    "print(f\"R2_score \\t: {R2_score}\")\n",
    "print(f\"MAE \\t\\t: {mae}\")\n",
    "print(f\"MSE \\t\\t: {mse}\")\n",
    "print(f\"RMSE \\t\\t: {rmse}\")"
   ]
  },
  {
   "cell_type": "code",
   "execution_count": null,
   "id": "60898a53",
   "metadata": {},
   "outputs": [],
   "source": []
  }
 ],
 "metadata": {
  "kernelspec": {
   "display_name": "Python 3 (ipykernel)",
   "language": "python",
   "name": "python3"
  },
  "language_info": {
   "codemirror_mode": {
    "name": "ipython",
    "version": 3
   },
   "file_extension": ".py",
   "mimetype": "text/x-python",
   "name": "python",
   "nbconvert_exporter": "python",
   "pygments_lexer": "ipython3",
   "version": "3.9.6"
  }
 },
 "nbformat": 4,
 "nbformat_minor": 5
}
